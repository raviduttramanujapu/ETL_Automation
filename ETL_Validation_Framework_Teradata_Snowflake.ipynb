{
 "cells": [
  {
   "cell_type": "markdown",
   "id": "0055d018",
   "metadata": {},
   "source": [
    "# ETL Validation Framework: Teradata to Snowflake"
   ]
  },
  {
   "cell_type": "markdown",
   "id": "4a8cee0a",
   "metadata": {},
   "source": [
    "**Generated on:** 2025-05-05 04:34:56"
   ]
  },
  {
   "cell_type": "markdown",
   "id": "32d9479b",
   "metadata": {},
   "source": [
    "## Overview\n",
    "This notebook demonstrates an ETL validation framework built in Python. It validates data integrity during migration from **Teradata** to **Snowflake**. The checks include:\n",
    "- Row count validation\n",
    "- Null check\n",
    "- Duplicate check\n"
   ]
  },
  {
   "cell_type": "markdown",
   "id": "ec6901f9",
   "metadata": {},
   "source": [
    "## Step 1: Install Required Packages"
   ]
  },
  {
   "cell_type": "code",
   "execution_count": null,
   "id": "8b02ac09",
   "metadata": {},
   "outputs": [],
   "source": [
    "!pip install teradatasql snowflake-connector-python"
   ]
  },
  {
   "cell_type": "markdown",
   "id": "10e99fe2",
   "metadata": {},
   "source": [
    "## Step 2: Load Configurations"
   ]
  },
  {
   "cell_type": "code",
   "execution_count": null,
   "id": "d724d95a",
   "metadata": {},
   "outputs": [],
   "source": [
    "import json\n",
    "\n",
    "with open('config/connections.json') as f:\n",
    "    config = json.load(f)"
   ]
  },
  {
   "cell_type": "markdown",
   "id": "2115370f",
   "metadata": {},
   "source": [
    "## Step 3: Define Logger"
   ]
  },
  {
   "cell_type": "code",
   "execution_count": null,
   "id": "459bb067",
   "metadata": {},
   "outputs": [],
   "source": [
    "from datetime import datetime\n",
    "\n",
    "def log_to_file(message):\n",
    "    with open(\"logs/validation.log\", \"a\") as f:\n",
    "        f.write(f\"[{datetime.now()}] {message}\\n\")"
   ]
  },
  {
   "cell_type": "markdown",
   "id": "89f17a45",
   "metadata": {},
   "source": [
    "## Step 4: Row Count Validation"
   ]
  },
  {
   "cell_type": "code",
   "execution_count": null,
   "id": "1a19b918",
   "metadata": {},
   "outputs": [],
   "source": [
    "import teradatasql\n",
    "import snowflake.connector\n",
    "\n",
    "def validate_row_count(td_conn, sf_conn):\n",
    "    with td_conn.cursor() as cur:\n",
    "        cur.execute(\"SELECT COUNT(*) FROM source.customer\")\n",
    "        td_count = cur.fetchone()[0]\n",
    "    with sf_conn.cursor() as cur:\n",
    "        cur.execute(\"SELECT COUNT(*) FROM customer\")\n",
    "        sf_count = cur.fetchone()[0]\n",
    "    assert td_count == sf_count, f\"Row count mismatch: Teradata({td_count}) vs Snowflake({sf_count})\""
   ]
  },
  {
   "cell_type": "markdown",
   "id": "dcc52cc7",
   "metadata": {},
   "source": [
    "## Step 5: Null Check Validation"
   ]
  },
  {
   "cell_type": "code",
   "execution_count": null,
   "id": "722d7e49",
   "metadata": {},
   "outputs": [],
   "source": [
    "def validate_null_check(sf_conn, table, columns):\n",
    "    with sf_conn.cursor() as cur:\n",
    "        for col in columns:\n",
    "            cur.execute(f\"SELECT COUNT(*) FROM {table} WHERE {col} IS NULL\")\n",
    "            null_count = cur.fetchone()[0]\n",
    "            assert null_count == 0, f\"Nulls found in column {col}\""
   ]
  },
  {
   "cell_type": "markdown",
   "id": "a84771b6",
   "metadata": {},
   "source": [
    "## Step 6: Duplicate Check Validation"
   ]
  },
  {
   "cell_type": "code",
   "execution_count": null,
   "id": "1ad129f6",
   "metadata": {},
   "outputs": [],
   "source": [
    "def validate_duplicate_check(sf_conn, table, keys):\n",
    "    key_expr = \", \".join(keys)\n",
    "    query = f\"SELECT {key_expr}, COUNT(*) FROM {table} GROUP BY {key_expr} HAVING COUNT(*) > 1\"\n",
    "    with sf_conn.cursor() as cur:\n",
    "        cur.execute(query)\n",
    "        rows = cur.fetchall()\n",
    "        assert not rows, f\"Duplicates found on keys {keys}: {rows}\""
   ]
  },
  {
   "cell_type": "markdown",
   "id": "f577fac6",
   "metadata": {},
   "source": [
    "## Step 7: Run Validations"
   ]
  },
  {
   "cell_type": "code",
   "execution_count": null,
   "id": "7545add9",
   "metadata": {},
   "outputs": [],
   "source": [
    "def run_validations():\n",
    "    td_conn = teradatasql.connect(**config['teradata'])\n",
    "    sf_conn = snowflake.connector.connect(**config['snowflake'])\n",
    "    try:\n",
    "        validate_row_count(td_conn, sf_conn)\n",
    "        validate_null_check(sf_conn, \"customer\", [\"email\"])\n",
    "        validate_duplicate_check(sf_conn, \"customer\", [\"customer_id\"])\n",
    "        log_to_file(\"✅ All validations passed\")\n",
    "    except Exception as e:\n",
    "        log_to_file(f\"❌ Validation failed: {str(e)}\")\n",
    "        raise\n",
    "\n",
    "run_validations()"
   ]
  }
 ],
 "metadata": {},
 "nbformat": 4,
 "nbformat_minor": 5
}